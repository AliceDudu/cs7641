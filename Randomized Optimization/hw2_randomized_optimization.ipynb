{
  "nbformat": 4,
  "nbformat_minor": 0,
  "metadata": {
    "colab": {
      "name": "hw2-randomized optimization.ipynb",
      "provenance": [],
      "collapsed_sections": [
        "URNV-4nilMfd",
        "FOiLCoeR1QHN",
        "Oa_AdLOAHWx1"
      ]
    },
    "kernelspec": {
      "name": "python3",
      "display_name": "Python 3"
    },
    "language_info": {
      "name": "python"
    }
  },
  "cells": [
    {
      "cell_type": "code",
      "metadata": {
        "colab": {
          "base_uri": "https://localhost:8080/"
        },
        "id": "f6YEkDyljP0W",
        "outputId": "6fd384db-8d07-478f-aaf7-525f2b0b8936"
      },
      "source": [
        "!pip install mlrose"
      ],
      "execution_count": 7,
      "outputs": [
        {
          "output_type": "stream",
          "name": "stdout",
          "text": [
            "Collecting mlrose\n",
            "  Downloading mlrose-1.3.0-py3-none-any.whl (27 kB)\n",
            "Requirement already satisfied: numpy in /usr/local/lib/python3.7/dist-packages (from mlrose) (1.19.5)\n",
            "Requirement already satisfied: sklearn in /usr/local/lib/python3.7/dist-packages (from mlrose) (0.0)\n",
            "Requirement already satisfied: scipy in /usr/local/lib/python3.7/dist-packages (from mlrose) (1.4.1)\n",
            "Requirement already satisfied: scikit-learn in /usr/local/lib/python3.7/dist-packages (from sklearn->mlrose) (0.22.2.post1)\n",
            "Requirement already satisfied: joblib>=0.11 in /usr/local/lib/python3.7/dist-packages (from scikit-learn->sklearn->mlrose) (1.0.1)\n",
            "Installing collected packages: mlrose\n",
            "Successfully installed mlrose-1.3.0\n"
          ]
        }
      ]
    },
    {
      "cell_type": "code",
      "metadata": {
        "colab": {
          "base_uri": "https://localhost:8080/"
        },
        "id": "KPqEosEejbWg",
        "outputId": "89c71ef4-565d-4146-c41e-efd671a25043"
      },
      "source": [
        "import numpy as np\n",
        "import matplotlib.pyplot as plt\n",
        "import mlrose\n",
        "import time"
      ],
      "execution_count": 8,
      "outputs": [
        {
          "output_type": "stream",
          "name": "stderr",
          "text": [
            "/usr/local/lib/python3.7/dist-packages/sklearn/externals/six.py:31: FutureWarning: The module is deprecated in version 0.21 and will be removed in version 0.23 since we've dropped support for Python 2.7. Please rely on the official version of six (https://pypi.org/project/six/).\n",
            "  \"(https://pypi.org/project/six/).\", FutureWarning)\n"
          ]
        }
      ]
    },
    {
      "cell_type": "markdown",
      "metadata": {
        "id": "URNV-4nilMfd"
      },
      "source": [
        "# 1. Four Peaks"
      ]
    },
    {
      "cell_type": "code",
      "metadata": {
        "id": "iqxG9KunlSCy"
      },
      "source": [
        "### problem\n",
        "fitness = mlrose.FourPeaks(t_pct=0.15)\n",
        "problem = mlrose.DiscreteOpt(length = 100, fitness_fn = fitness, maximize = True)"
      ],
      "execution_count": 3,
      "outputs": []
    },
    {
      "cell_type": "code",
      "metadata": {
        "id": "MSAE_Q7gla-f"
      },
      "source": [
        "### run algorithms\n",
        "compare_dict = {}\n",
        "\n",
        "max_iters = 1000\n",
        "\n",
        "random_state = 1\n",
        "\n",
        "# simulated_annealing\n",
        "schedule = mlrose.ExpDecay()\n",
        "# genetic_alg, mimic\n",
        "ga_mimic_iters = 1000\n",
        "# mimic\n",
        "mimic_vectorize = True\n",
        "\n",
        "# random_hill_climb\n",
        "start_time = time.time()\n",
        "best_state, best_fitness, fitness_curve = mlrose.random_hill_climb(problem, \n",
        "                                                                   max_attempts = max_iters, max_iters = max_iters, \n",
        "                                                                   random_state = random_state, curve= True)\n",
        "stop_time = time.time()\n",
        "time_taken = stop_time - start_time\n",
        "color = 'r-'\n",
        "compare_dict['random_hill_climb'] = {'best_state':best_state, 'best_fitness':best_fitness, 'fitness_curve':fitness_curve, 'color':color, 'time_taken': time_taken}\n",
        "\n",
        "# simulated_annealing\n",
        "start_time = time.time()\n",
        "best_state, best_fitness, fitness_curve = mlrose.simulated_annealing(problem, schedule = schedule,\n",
        "                                                                    max_attempts = max_iters, max_iters = max_iters, \n",
        "                                                                    random_state = random_state, curve= True)\n",
        "stop_time = time.time()\n",
        "time_taken = stop_time - start_time\n",
        "color='y-'\n",
        "compare_dict['simulated_annealing'] = {'best_state':best_state, 'best_fitness':best_fitness, 'fitness_curve':fitness_curve, 'color':color, 'time_taken': time_taken}\n",
        "\n",
        "# genetic_alg\n",
        "start_time = time.time()\n",
        "best_state, best_fitness, fitness_curve = mlrose.genetic_alg(problem, pop_size = 200,\n",
        "                                                             max_attempts = ga_mimic_iters, max_iters = ga_mimic_iters, \n",
        "                                                             random_state = random_state, curve= True)\n",
        "stop_time = time.time()\n",
        "time_taken = stop_time - start_time\n",
        "color='b-'\n",
        "compare_dict['genetic_alg'] = {'best_state':best_state, 'best_fitness':best_fitness, 'fitness_curve':fitness_curve, 'color':color, 'time_taken': time_taken}\n",
        "\n",
        "# mimic\n",
        "start_time = time.time()\n",
        "best_state, best_fitness, fitness_curve = mlrose.mimic(problem, pop_size=200,\n",
        "                                                       max_attempts = ga_mimic_iters, max_iters = ga_mimic_iters, \n",
        "                                                       random_state = random_state, curve= True, \n",
        "                                                       fast_mimic = mimic_vectorize)\n",
        "stop_time = time.time()\n",
        "time_taken = stop_time - start_time\n",
        "color='g-'\n",
        "compare_dict['mimic'] = {'best_state':best_state, 'best_fitness':best_fitness, 'fitness_curve':fitness_curve, 'color':color, 'time_taken': time_taken}"
      ],
      "execution_count": 6,
      "outputs": []
    },
    {
      "cell_type": "code",
      "metadata": {
        "colab": {
          "base_uri": "https://localhost:8080/",
          "height": 295
        },
        "id": "5XQnLknxq7pY",
        "outputId": "3fd0d469-4830-42ee-926b-b950a4db783e"
      },
      "source": [
        "### plot\n",
        "fig, ax = plt.subplots()\n",
        "for ro_algo in compare_dict:\n",
        "    ax.plot(range(0, len(compare_dict[ro_algo]['fitness_curve'])), compare_dict[ro_algo]['fitness_curve'], compare_dict[ro_algo]['color'], label=ro_algo)\n",
        "\n",
        "ax.set_xlabel('Iterations')\n",
        "ax.set_ylabel('Fitness')\n",
        "ax.set_title('Fitness curve for Four Peaks')\n",
        "ax.legend()\n",
        "plt.show(fig)"
      ],
      "execution_count": 7,
      "outputs": [
        {
          "output_type": "display_data",
          "data": {
            "image/png": "[encoded data removed]",
            "text/plain": [
              "<Figure size 432x288 with 1 Axes>"
            ]
          },
          "metadata": {
            "needs_background": "light"
          }
        }
      ]
    },
    {
      "cell_type": "code",
      "metadata": {
        "id": "atz-pqovv40s"
      },
      "source": [
        "### helper function\n",
        "\n",
        "def run_ro_algo(problem, max_iters=1000, ga_mimic_iters=1000, mimic_vectorize=True):\n",
        "\n",
        "  compare_dict = {}\n",
        "\n",
        "  #max_iters = 1000\n",
        "\n",
        "  random_state = 1\n",
        "\n",
        "  # simulated_annealing\n",
        "  schedule = mlrose.ExpDecay()\n",
        "  # genetic_alg, mimic\n",
        "  #ga_mimic_iters = 1000\n",
        "  # mimic\n",
        "  #mimic_vectorize = True\n",
        "\n",
        "  # random_hill_climb\n",
        "  start_time = time.time()\n",
        "  best_state, best_fitness, fitness_curve = mlrose.random_hill_climb(problem, \n",
        "                                                                   max_attempts = max_iters, max_iters = max_iters, \n",
        "                                                                   random_state = random_state, curve= True)\n",
        "  stop_time = time.time()\n",
        "  time_taken = stop_time - start_time\n",
        "  color = 'r-'\n",
        "  compare_dict['random_hill_climb'] = {'best_state':best_state, 'best_fitness':best_fitness, 'fitness_curve':fitness_curve, 'color':color, 'time_taken': time_taken}\n",
        "\n",
        "  # simulated_annealing\n",
        "  start_time = time.time()\n",
        "  best_state, best_fitness, fitness_curve = mlrose.simulated_annealing(problem, schedule = schedule,\n",
        "                                                                    max_attempts = max_iters, max_iters = max_iters, \n",
        "                                                                    random_state = random_state, curve= True)\n",
        "  stop_time = time.time()\n",
        "  time_taken = stop_time - start_time\n",
        "  color='y-'\n",
        "  compare_dict['simulated_annealing'] = {'best_state':best_state, 'best_fitness':best_fitness, 'fitness_curve':fitness_curve, 'color':color, 'time_taken': time_taken}\n",
        "\n",
        "  # genetic_alg\n",
        "  start_time = time.time()\n",
        "  best_state, best_fitness, fitness_curve = mlrose.genetic_alg(problem, pop_size = 200,\n",
        "                                                             max_attempts = ga_mimic_iters, max_iters = ga_mimic_iters, \n",
        "                                                             random_state = random_state, curve= True)\n",
        "  stop_time = time.time()\n",
        "  time_taken = stop_time - start_time\n",
        "  color='b-'\n",
        "  compare_dict['genetic_alg'] = {'best_state':best_state, 'best_fitness':best_fitness, 'fitness_curve':fitness_curve, 'color':color, 'time_taken': time_taken}\n",
        "\n",
        "  # mimic\n",
        "  start_time = time.time()\n",
        "  best_state, best_fitness, fitness_curve = mlrose.mimic(problem, pop_size=200,\n",
        "                                                       max_attempts = ga_mimic_iters, max_iters = ga_mimic_iters, \n",
        "                                                       random_state = random_state, curve= True, \n",
        "                                                       fast_mimic = mimic_vectorize)\n",
        "  stop_time = time.time()\n",
        "  time_taken = stop_time - start_time\n",
        "  color='g-'\n",
        "  compare_dict['mimic'] = {'best_state':best_state, 'best_fitness':best_fitness, 'fitness_curve':fitness_curve, 'color':color, 'time_taken': time_taken}\n",
        "\n",
        "\n",
        "  return compare_dict"
      ],
      "execution_count": 8,
      "outputs": []
    },
    {
      "cell_type": "code",
      "metadata": {
        "id": "NhZUjIm0xOiA"
      },
      "source": [
        "### compare running time\n",
        "max_iterations = 1000\n",
        "step = 100\n",
        "\n",
        "running_time = {}\n",
        "\n",
        "for i in range(100, max_iterations+1, step):\n",
        "    result = run_ro_algo(problem, max_iters=i, ga_mimic_iters=i)\n",
        "    for ro_algo in result:\n",
        "        if i == 100:\n",
        "            running_time[ro_algo] = [result[ro_algo]['time_taken']]\n",
        "        else:\n",
        "            running_time[ro_algo].append(result[ro_algo]['time_taken'])"
      ],
      "execution_count": 9,
      "outputs": []
    },
    {
      "cell_type": "code",
      "metadata": {
        "colab": {
          "base_uri": "https://localhost:8080/",
          "height": 295
        },
        "id": "pCCTT5Udz2nS",
        "outputId": "a8ca8bde-655c-455f-9b9e-77fb7a62ec6f"
      },
      "source": [
        "### plot running time\n",
        "colors = {'random_hill_climb':'r-', 'simulated_annealing':'y-', 'genetic_alg':'b-', 'mimic':'g-'}\n",
        "\n",
        "fig, ax = plt.subplots()\n",
        "for ro_algo in running_time:\n",
        "    ax.plot(list(range(100, max_iterations+1, step)), running_time[ro_algo], colors[ro_algo], label=ro_algo)\n",
        "\n",
        "ax.set_xlabel('Iterations')\n",
        "ax.set_ylabel('Running time (Seconds)')\n",
        "ax.set_title('Running Time curve for Four Peaks')\n",
        "ax.legend()\n",
        "plt.show(fig)"
      ],
      "execution_count": 12,
      "outputs": [
        {
          "output_type": "display_data",
          "data": {
            "image/png": "[encoded data removed]",
            "text/plain": [
              "<Figure size 432x288 with 1 Axes>"
            ]
          },
          "metadata": {
            "needs_background": "light"
          }
        }
      ]
    },
    {
      "cell_type": "markdown",
      "metadata": {
        "id": "FOiLCoeR1QHN"
      },
      "source": [
        "# 2. Traveling Salesman"
      ]
    },
    {
      "cell_type": "code",
      "metadata": {
        "id": "_Tfy3-zw1Uq8"
      },
      "source": [
        "### problem\n",
        "data = [[0 ,29 ,82 ,46 ,68 ,52 ,72 ,42 ,51 ,55 ,29 ,74 ,23 ],\n",
        " [29,  0, 55, 46, 42, 43, 43, 23, 23, 31, 41, 51, 11] ,\n",
        " [82, 55,  0, 68, 46, 55, 23, 43, 41, 29, 79, 21, 64] ,\n",
        " [46, 46, 68,  0, 82, 15, 72, 31, 62, 42, 21, 51, 51] ,\n",
        " [68, 42, 46, 82,  0, 74, 23, 52, 21, 46, 82, 58, 46] ,\n",
        " [52, 43, 55, 15, 74,  0, 61, 23, 55, 31, 33, 37, 51] ,\n",
        " [72, 43, 23, 72, 23, 61,  0, 42, 23, 31, 77, 37, 51] ,\n",
        " [42, 23, 43, 31, 52, 23, 42,  0, 33, 15, 37, 33, 33] ,\n",
        " [51, 23, 41, 62, 21, 55, 23, 33,  0, 29, 62, 46, 29] ,\n",
        " [55, 31, 29, 42, 46, 31, 31, 15, 29,  0, 51, 21, 41] ,\n",
        " [29, 41, 79, 21, 82, 33, 77, 37, 62, 51,  0, 65, 42] ,\n",
        " [74, 51, 21, 51, 58, 37, 37, 33, 46, 21, 65,  0, 61] ,\n",
        " [23, 11, 64, 51, 46, 51, 51, 33, 29, 41, 42, 61,  0] ]\n",
        "\n",
        "city_coordinate = []\n",
        "for i, val in enumerate(data):\n",
        "    for j, val in enumerate(data[i]):\n",
        "        if data[i][j] == 0:\n",
        "            continue\n",
        "        city_coor = (i, j, data[i][j])\n",
        "        city_coordinate.append(city_coor)\n",
        "\n",
        "fitness_tsp = mlrose.TravellingSales(distances = city_coordinate)\n",
        "problem_tsp = mlrose.TSPOpt(length = 13, fitness_fn = fitness_tsp, maximize=False)"
      ],
      "execution_count": 14,
      "outputs": []
    },
    {
      "cell_type": "code",
      "metadata": {
        "id": "jvH6Dvyx3KtQ"
      },
      "source": [
        "### run algorithms\n",
        "result_tsp = run_ro_algo(problem_tsp, max_iters=200, ga_mimic_iters=200, mimic_vectorize=False)"
      ],
      "execution_count": 15,
      "outputs": []
    },
    {
      "cell_type": "code",
      "metadata": {
        "colab": {
          "base_uri": "https://localhost:8080/",
          "height": 295
        },
        "id": "TK5W6kQS4Izm",
        "outputId": "82d66425-d266-4b32-d289-a38d00918fe4"
      },
      "source": [
        "### plot fitness curve for tsp\n",
        "fig, ax = plt.subplots()\n",
        "for ro_algo in result_tsp:\n",
        "    ax.plot(range(0,len(result_tsp[ro_algo]['fitness_curve'])), result_tsp[ro_algo]['fitness_curve'], result_tsp[ro_algo]['color'], label=ro_algo)\n",
        "\n",
        "ax.set_xlabel('Iterations')\n",
        "ax.set_ylabel('Fitness')\n",
        "ax.set_title('Fitness curve for Traveling Salesman')\n",
        "ax.legend()\n",
        "plt.show(fig)"
      ],
      "execution_count": 16,
      "outputs": [
        {
          "output_type": "display_data",
          "data": {
            "image/png": "[encoded data removed]",
            "text/plain": [
              "<Figure size 432x288 with 1 Axes>"
            ]
          },
          "metadata": {
            "needs_background": "light"
          }
        }
      ]
    },
    {
      "cell_type": "code",
      "metadata": {
        "id": "J6nnYFFE8eaf"
      },
      "source": [
        "### compare running time\n",
        "max_iterations = 1000\n",
        "step = 100\n",
        "\n",
        "running_time_tsp = {}\n",
        "\n",
        "for i in range(100, max_iterations+1, step):\n",
        "    result = run_ro_algo(problem_tsp, max_iters=i, ga_mimic_iters=i, mimic_vectorize=False)\n",
        "    for ro_algo in result:\n",
        "        if i == 100:\n",
        "            running_time_tsp[ro_algo] = [result[ro_algo]['time_taken']]\n",
        "        else:\n",
        "            running_time_tsp[ro_algo].append(result[ro_algo]['time_taken'])"
      ],
      "execution_count": 17,
      "outputs": []
    },
    {
      "cell_type": "code",
      "metadata": {
        "colab": {
          "base_uri": "https://localhost:8080/",
          "height": 295
        },
        "id": "PYC2aySGFX8P",
        "outputId": "8c49371e-ada5-414d-9e3c-f5b5237d864c"
      },
      "source": [
        "### plot running time curve\n",
        "colors = {'random_hill_climb':'r-', 'simulated_annealing':'y-', 'genetic_alg':'b-', 'mimic':'g-'}\n",
        "\n",
        "fig, ax = plt.subplots()\n",
        "for ro_algo in running_time_tsp:\n",
        "    ax.plot(list(range(100, max_iterations+1, step)), running_time_tsp[ro_algo], colors[ro_algo], label=ro_algo)\n",
        "\n",
        "ax.set_xlabel('Iterations')\n",
        "ax.set_ylabel('Running time (Seconds)')\n",
        "ax.set_title('Running Time curve for Traveling Salesman')\n",
        "ax.legend()\n",
        "plt.show(fig)"
      ],
      "execution_count": 18,
      "outputs": [
        {
          "output_type": "display_data",
          "data": {
            "image/png": "[encoded data removed]",
            "text/plain": [
              "<Figure size 432x288 with 1 Axes>"
            ]
          },
          "metadata": {
            "needs_background": "light"
          }
        }
      ]
    },
    {
      "cell_type": "markdown",
      "metadata": {
        "id": "Oa_AdLOAHWx1"
      },
      "source": [
        "# 3. N Queen"
      ]
    },
    {
      "cell_type": "code",
      "metadata": {
        "id": "GnHUpSAZHb3Q"
      },
      "source": [
        "### problem\n",
        "fitness_nq = mlrose.Queens()\n",
        "problem_nq = mlrose.DiscreteOpt(length = 30, fitness_fn = fitness_nq, maximize = False)"
      ],
      "execution_count": 19,
      "outputs": []
    },
    {
      "cell_type": "code",
      "metadata": {
        "id": "IOgKdbVrRLuj"
      },
      "source": [
        "### run algorithms\n",
        "result_nq = run_ro_algo(problem_nq, max_iters=1000, ga_mimic_iters=1000)"
      ],
      "execution_count": 20,
      "outputs": []
    },
    {
      "cell_type": "code",
      "metadata": {
        "colab": {
          "base_uri": "https://localhost:8080/",
          "height": 295
        },
        "id": "16M5KqPfRqcN",
        "outputId": "2d2de3ef-f3a2-4793-bfba-f4f9c3c1d730"
      },
      "source": [
        "### plot fitness curve for n queen\n",
        "fig, ax = plt.subplots()\n",
        "for ro_algo in result_nq:\n",
        "    ax.plot(range(0,len(result_nq[ro_algo]['fitness_curve'])), result_nq[ro_algo]['fitness_curve'], result_nq[ro_algo]['color'], label=ro_algo)\n",
        "\n",
        "ax.set_xlabel('Iterations')\n",
        "ax.set_ylabel('Fitness')\n",
        "ax.set_title('Fitness curve for N Queen')\n",
        "ax.legend()\n",
        "plt.show(fig)"
      ],
      "execution_count": 21,
      "outputs": [
        {
          "output_type": "display_data",
          "data": {
            "image/png": "[encoded data removed]",
            "text/plain": [
              "<Figure size 432x288 with 1 Axes>"
            ]
          },
          "metadata": {
            "needs_background": "light"
          }
        }
      ]
    },
    {
      "cell_type": "code",
      "metadata": {
        "id": "yjzdYIGpSzTm"
      },
      "source": [
        "### compare running time\n",
        "max_iterations = 1000\n",
        "step = 100\n",
        "\n",
        "running_time_nq = {}\n",
        "\n",
        "for i in range(100, max_iterations+1, step):\n",
        "    result = run_ro_algo(problem_nq, max_iters=i, ga_mimic_iters=i)\n",
        "    for ro_algo in result:\n",
        "        if i == 100:\n",
        "            running_time_nq[ro_algo] = [result[ro_algo]['time_taken']]\n",
        "        else:\n",
        "            running_time_nq[ro_algo].append(result[ro_algo]['time_taken'])"
      ],
      "execution_count": 22,
      "outputs": []
    },
    {
      "cell_type": "code",
      "metadata": {
        "colab": {
          "base_uri": "https://localhost:8080/",
          "height": 295
        },
        "id": "1Jw-H38qhbv-",
        "outputId": "400c48ea-7e08-4fe4-d590-4facbb65793c"
      },
      "source": [
        "### plot running time curve\n",
        "colors = {'random_hill_climb':'r-', 'simulated_annealing':'y-', 'genetic_alg':'b-', 'mimic':'g-'}\n",
        "\n",
        "fig, ax = plt.subplots()\n",
        "for ro_algo in running_time_nq:\n",
        "    ax.plot(list(range(100, max_iterations+1, step)), running_time_nq[ro_algo], colors[ro_algo], label=ro_algo)\n",
        "\n",
        "ax.set_xlabel('Iterations')\n",
        "ax.set_ylabel('Running time (Seconds)')\n",
        "ax.set_title('Running Time curve for N Queen')\n",
        "ax.legend()\n",
        "plt.show(fig)"
      ],
      "execution_count": 23,
      "outputs": [
        {
          "output_type": "display_data",
          "data": {
            "image/png": "[encoded data removed]",
            "text/plain": [
              "<Figure size 432x288 with 1 Axes>"
            ]
          },
          "metadata": {
            "needs_background": "light"
          }
        }
      ]
    },
    {
      "cell_type": "markdown",
      "metadata": {
        "id": "RU4HxkMtykOM"
      },
      "source": [
        "# Neural Networks"
      ]
    },
    {
      "cell_type": "code",
      "metadata": {
        "id": "55NZlyvLyjqU"
      },
      "source": [
        "import time\n",
        "\n",
        "import numpy as np\n",
        "import pandas as pd\n",
        "import matplotlib.pyplot as plt\n",
        "\n",
        "from sklearn.preprocessing import OneHotEncoder\n",
        "from sklearn.preprocessing import StandardScaler\n",
        "\n",
        "from sklearn.metrics import accuracy_score, precision_score, recall_score, roc_auc_score, f1_score\n",
        "from sklearn.model_selection import learning_curve, train_test_split, GridSearchCV\n",
        "\n",
        "from sklearn.neural_network import MLPClassifier"
      ],
      "execution_count": 2,
      "outputs": []
    },
    {
      "cell_type": "code",
      "metadata": {
        "colab": {
          "base_uri": "https://localhost:8080/"
        },
        "id": "rRwo-bPnzEcC",
        "outputId": "ce1cc77c-04d3-46d3-8d48-6a624aaf1a5b"
      },
      "source": [
        "df = pd.read_csv('/content/winequality-white-balanced.csv', sep=\",\")\n",
        "df.info()"
      ],
      "execution_count": 4,
      "outputs": [
        {
          "output_type": "stream",
          "name": "stdout",
          "text": [
            "<class 'pandas.core.frame.DataFrame'>\n",
            "RangeIndex: 3284 entries, 0 to 3283\n",
            "Data columns (total 13 columns):\n",
            " #   Column                Non-Null Count  Dtype  \n",
            "---  ------                --------------  -----  \n",
            " 0   fixed acidity         3284 non-null   float64\n",
            " 1   volatile acidity      3284 non-null   float64\n",
            " 2   citric acid           3284 non-null   float64\n",
            " 3   residual sugar        3284 non-null   float64\n",
            " 4   chlorides             3284 non-null   float64\n",
            " 5   free sulfur dioxide   3284 non-null   float64\n",
            " 6   total sulfur dioxide  3284 non-null   float64\n",
            " 7   density               3284 non-null   float64\n",
            " 8   pH                    3284 non-null   float64\n",
            " 9   sulphates             3284 non-null   float64\n",
            " 10  alcohol               3284 non-null   float64\n",
            " 11  quality               3284 non-null   int64  \n",
            " 12  class                 3284 non-null   int64  \n",
            "dtypes: float64(11), int64(2)\n",
            "memory usage: 333.7 KB\n"
          ]
        }
      ]
    },
    {
      "cell_type": "code",
      "metadata": {
        "id": "y9VwoK0szMua"
      },
      "source": [
        "random_state = 1\n",
        "df['labels'] = df['class']\n",
        "df_numerical = df.drop(['quality', 'class', 'labels'], axis=1)\n",
        "scaling = StandardScaler()\n",
        "df_numerical_scaled = scaling.fit_transform(df_numerical)\n",
        "features = df_numerical_scaled\n",
        "labels = df['labels']\n",
        "X_train, X_test, y_train, y_test = train_test_split(features, labels, test_size=0.33, random_state=random_state)  # 0.33 0.2\n",
        "X_training, X_validation, y_training, y_validation = train_test_split(X_train, y_train, test_size=0.3, random_state=random_state)"
      ],
      "execution_count": 6,
      "outputs": []
    },
    {
      "cell_type": "markdown",
      "metadata": {
        "id": "RbXhW7-_T5pb"
      },
      "source": [
        "## Run three RO algorithms"
      ]
    },
    {
      "cell_type": "code",
      "metadata": {
        "id": "SYVnBJDfGDjg"
      },
      "source": [
        "### run algorithms\n",
        "iterations = 1000\n",
        "\n",
        "hidden_nodes = [8, 16]\n",
        "activation = 'sigmoid'\n",
        "\n",
        "compare_dict_nn = {\n",
        "              'random_hill_climb':{'loss':[], 'test_score':[], 'train_score':[],'fit_times':[], 'fit_curve':[], 'model':''}, \n",
        "              'simulated_annealing': {'loss':[],'test_score':[], 'train_score':[],'fit_times':[], 'fit_curve':[], 'model':''}, \n",
        "              'genetic_alg':{'loss':[],'test_score':[], 'train_score':[],'fit_times':[], 'fit_curve':[], 'model':''}\n",
        "             }"
      ],
      "execution_count": 9,
      "outputs": []
    },
    {
      "cell_type": "code",
      "metadata": {
        "colab": {
          "base_uri": "https://localhost:8080/"
        },
        "id": "YwrawlgsIjZu",
        "outputId": "5709ba32-6808-4d9b-ce03-3dbedb3ccbcc"
      },
      "source": [
        "# random_hill\n",
        "nn_rhc = mlrose.NeuralNetwork(hidden_nodes = hidden_nodes, activation = activation, \\\n",
        "                             algorithm = 'random_hill_climb', max_iters = iterations, \\\n",
        "                             bias = True, is_classifier = True, learning_rate = 0.001, \\\n",
        "                             early_stopping = False,  clip_max=5,\\\n",
        "                             random_state = random_state, curve=True)\n",
        "\n",
        "start_time = time.time()\n",
        "nn_rhc.fit(X_train, y_train)\n",
        "stop_time = time.time()\n",
        "time_taken = stop_time - start_time\n",
        "y_pred = nn_rhc.predict(X_test)\n",
        "\n",
        "compare_dict_nn['random_hill_climb']['loss'].append(nn_rhc.loss)\n",
        "compare_dict_nn['random_hill_climb']['test_score'].append(accuracy_score(y_test, y_pred))\n",
        "compare_dict_nn['random_hill_climb']['train_score'].append(nn_rhc.score(X_train, y_train))\n",
        "compare_dict_nn['random_hill_climb']['fit_times'].append(time_taken)\n",
        "compare_dict_nn['random_hill_climb']['fit_curve'].append(nn_rhc.fitness_curve )\n",
        "compare_dict_nn['random_hill_climb']['model']= nn_rhc\n",
        "\n",
        "print('Training random_hill_climb 1000 iterations:','loss', nn_rhc.loss, 'test', accuracy_score(y_test, y_pred), 'train_score', nn_rhc.score(X_train, y_train), 'time_taken', time_taken)"
      ],
      "execution_count": 10,
      "outputs": [
        {
          "output_type": "stream",
          "name": "stdout",
          "text": [
            "Training random_hill_climb 1000 iterations: loss 0.9389581700340774 test 0.496309963099631 train_score 0.5027272727272727 time_taken 6.897475481033325\n"
          ]
        }
      ]
    },
    {
      "cell_type": "code",
      "metadata": {
        "colab": {
          "base_uri": "https://localhost:8080/"
        },
        "id": "tzPU4mfZIsDN",
        "outputId": "1efb6c67-076a-4fc7-8bd9-49effb7c1a21"
      },
      "source": [
        "# simulated_annealing\n",
        "schedule = mlrose.ExpDecay()\n",
        "nn_sa = mlrose.NeuralNetwork(hidden_nodes = hidden_nodes, activation = activation, \\\n",
        "                             algorithm = 'simulated_annealing', schedule=schedule, max_iters = iterations, \\\n",
        "                             bias = True, is_classifier = True, learning_rate = 0.001, \\\n",
        "                             early_stopping = False,  clip_max=5,\\\n",
        "                             random_state = random_state, curve=True)\n",
        "\n",
        "start_time = time.time()\n",
        "nn_sa.fit(X_train, y_train)\n",
        "stop_time = time.time()\n",
        "time_taken = stop_time - start_time\n",
        "y_pred = nn_sa.predict(X_test)\n",
        "\n",
        "compare_dict_nn['simulated_annealing']['loss'].append(nn_sa.loss)\n",
        "compare_dict_nn['simulated_annealing']['test_score'].append(accuracy_score(y_test, y_pred))\n",
        "compare_dict_nn['simulated_annealing']['train_score'].append(nn_sa.score(X_train, y_train))\n",
        "compare_dict_nn['simulated_annealing']['fit_times'].append(time_taken)\n",
        "compare_dict_nn['simulated_annealing']['fit_curve'].append(nn_sa.fitness_curve )\n",
        "compare_dict_nn['simulated_annealing']['model']= nn_sa\n",
        "\n",
        "print('Training simulated_annealing 1000 iterations:','loss', nn_sa.loss, 'test', accuracy_score(y_test, y_pred), 'train_score', nn_sa.score(X_train, y_train), 'time_taken', time_taken)"
      ],
      "execution_count": 11,
      "outputs": [
        {
          "output_type": "stream",
          "name": "stdout",
          "text": [
            "Training simulated_annealing 1000 iterations: loss 0.946701390728676 test 0.496309963099631 train_score 0.5027272727272727 time_taken 9.34513545036316\n"
          ]
        }
      ]
    },
    {
      "cell_type": "code",
      "metadata": {
        "colab": {
          "base_uri": "https://localhost:8080/"
        },
        "id": "Y3akny7TKAza",
        "outputId": "1906ac4c-640e-4b05-d95e-8d0cb8390dde"
      },
      "source": [
        "# genetic_alg\n",
        "nn_ga = mlrose.NeuralNetwork(hidden_nodes = hidden_nodes, activation = activation, \\\n",
        "                             algorithm = 'genetic_alg', max_iters = iterations, \\\n",
        "                             bias = True, is_classifier = True, learning_rate = 0.001, \\\n",
        "                             early_stopping = False,  clip_max=5, \\\n",
        "                             random_state = random_state, curve=True)\n",
        "\n",
        "start_time = time.time()\n",
        "nn_ga.fit(X_train, y_train)\n",
        "stop_time = time.time()\n",
        "time_taken = stop_time - start_time\n",
        "y_pred = nn_ga.predict(X_test)\n",
        "\n",
        "compare_dict_nn['genetic_alg']['loss'].append(nn_ga.loss)\n",
        "compare_dict_nn['genetic_alg']['test_score'].append(accuracy_score(y_test, y_pred))\n",
        "compare_dict_nn['genetic_alg']['train_score'].append(nn_ga.score(X_train, y_train))\n",
        "compare_dict_nn['genetic_alg']['fit_times'].append(time_taken)\n",
        "compare_dict_nn['genetic_alg']['fit_curve'].append(nn_ga.fitness_curve )\n",
        "compare_dict_nn['genetic_alg']['model']= nn_ga\n",
        "\n",
        "print('Training genetic_alg 1000 iterations:','loss', nn_ga.loss, 'test', accuracy_score(y_test, y_pred), 'train_score', nn_ga.score(X_train, y_train), 'time_taken', time_taken)"
      ],
      "execution_count": 12,
      "outputs": [
        {
          "output_type": "stream",
          "name": "stdout",
          "text": [
            "Training genetic_alg 1000 iterations: loss 0.8254507833812781 test 0.5276752767527675 train_score 0.5363636363636364 time_taken 964.2048466205597\n"
          ]
        }
      ]
    },
    {
      "cell_type": "code",
      "metadata": {
        "colab": {
          "base_uri": "https://localhost:8080/",
          "height": 295
        },
        "id": "sM3l8yT1KpTP",
        "outputId": "c69dbcb2-d487-4590-dcdb-67d26ceb8338"
      },
      "source": [
        "### plot fitness curve compare\n",
        "algorithms = ['random_hill_climb', 'simulated_annealing', 'genetic_alg']\n",
        "algo_color = ['r-', 'y-', 'b-']\n",
        "\n",
        "fig, ax = plt.subplots()\n",
        "for index, algo in enumerate(algorithms):\n",
        "    ax.plot(range(0,len(compare_dict_nn[algo]['fit_curve'][0])) , compare_dict_nn[algo]['fit_curve'][0], algo_color[index], label=algo)\n",
        "\n",
        "ax.set_xlabel('Iterations')\n",
        "ax.set_ylabel('Fitness')\n",
        "ax.set_title('Fitness Curves on Neural Networks')\n",
        "ax.legend()\n",
        "plt.show(fig)"
      ],
      "execution_count": 13,
      "outputs": [
        {
          "output_type": "display_data",
          "data": {
            "image/png": "[encoded data removed]",
            "text/plain": [
              "<Figure size 432x288 with 1 Axes>"
            ]
          },
          "metadata": {
            "needs_background": "light"
          }
        }
      ]
    },
    {
      "cell_type": "code",
      "metadata": {
        "colab": {
          "base_uri": "https://localhost:8080/"
        },
        "id": "LLhj0vT9OapU",
        "outputId": "8ea17d61-b445-4e81-e90f-f12d4ff7432b"
      },
      "source": [
        "print('Time taken for random_hill_climb is: ', compare_dict_nn['random_hill_climb']['fit_times'])\n",
        "print('Time taken for simulated_annealing is: ', compare_dict_nn['simulated_annealing']['fit_times'])\n",
        "print('Time taken for genetic_alg is: ', compare_dict_nn['genetic_alg']['fit_times'])"
      ],
      "execution_count": 17,
      "outputs": [
        {
          "output_type": "stream",
          "name": "stdout",
          "text": [
            "Time taken for random_hill_climb is:  [6.897475481033325]\n",
            "Time taken for simulated_annealing is:  [9.34513545036316]\n",
            "Time taken for genetic_alg is:  [964.2048466205597]\n"
          ]
        }
      ]
    },
    {
      "cell_type": "code",
      "metadata": {
        "colab": {
          "base_uri": "https://localhost:8080/"
        },
        "id": "7huDtYduP29Y",
        "outputId": "4f3aa867-288d-40ea-d9a1-ec9f9e0e4c95"
      },
      "source": [
        "print('Test score for random_hill_climb is: ', compare_dict_nn['random_hill_climb']['test_score'])\n",
        "print('Test score for simulated_annealing is: ', compare_dict_nn['simulated_annealing']['test_score'])\n",
        "print('Test score for genetic_alg is: ', compare_dict_nn['genetic_alg']['test_score'])"
      ],
      "execution_count": 19,
      "outputs": [
        {
          "output_type": "stream",
          "name": "stdout",
          "text": [
            "Test score for random_hill_climb is:  [0.496309963099631]\n",
            "Test score for simulated_annealing is:  [0.496309963099631]\n",
            "Test score for genetic_alg is:  [0.5276752767527675]\n"
          ]
        }
      ]
    },
    {
      "cell_type": "code",
      "metadata": {
        "colab": {
          "base_uri": "https://localhost:8080/"
        },
        "id": "TZDn7h_wQF6B",
        "outputId": "592f8209-f8c3-4be5-92b7-6852f55ab815"
      },
      "source": [
        "print('Train score for random_hill_climb is: ', compare_dict_nn['random_hill_climb']['train_score'])\n",
        "print('Train score for simulated_annealing is: ', compare_dict_nn['simulated_annealing']['train_score'])\n",
        "print('Train score for genetic_alg is: ', compare_dict_nn['genetic_alg']['train_score'])"
      ],
      "execution_count": 20,
      "outputs": [
        {
          "output_type": "stream",
          "name": "stdout",
          "text": [
            "Train score for random_hill_climb is:  [0.5027272727272727]\n",
            "Train score for simulated_annealing is:  [0.5027272727272727]\n",
            "Train score for genetic_alg is:  [0.5363636363636364]\n"
          ]
        }
      ]
    },
    {
      "cell_type": "code",
      "metadata": {
        "colab": {
          "base_uri": "https://localhost:8080/"
        },
        "id": "mszjVL1zQYx-",
        "outputId": "2d377a5c-0da7-4a67-c75d-3d341c65e53d"
      },
      "source": [
        "print('Loss for random_hill_climb is: ', compare_dict_nn['random_hill_climb']['loss'])\n",
        "print('Loss for simulated_annealing is: ', compare_dict_nn['simulated_annealing']['loss'])\n",
        "print('Loss for genetic_alg is: ', compare_dict_nn['genetic_alg']['loss'])"
      ],
      "execution_count": 22,
      "outputs": [
        {
          "output_type": "stream",
          "name": "stdout",
          "text": [
            "Loss for random_hill_climb is:  [0.9389581700340774]\n",
            "Loss for simulated_annealing is:  [0.946701390728676]\n",
            "Loss for genetic_alg is:  [0.8254507833812781]\n"
          ]
        }
      ]
    },
    {
      "cell_type": "code",
      "metadata": {
        "colab": {
          "base_uri": "https://localhost:8080/"
        },
        "id": "WZZRZSTCSEKR",
        "outputId": "b3dbf32f-cfac-4467-af14-d4c4bf045aad"
      },
      "source": [
        "nn_clf = MLPClassifier(activation='logistic', alpha=0.0001, batch_size='auto', beta_1=0.9,\n",
        "              beta_2=0.999, early_stopping=False, epsilon=1e-08,\n",
        "              hidden_layer_sizes=(16, 8), learning_rate='constant',\n",
        "              learning_rate_init=0.001, max_fun=15000, max_iter=200,\n",
        "              momentum=0.9, n_iter_no_change=10, nesterovs_momentum=True,\n",
        "              power_t=0.5, random_state=1, shuffle=True, solver='adam',\n",
        "              tol=0.0001, validation_fraction=0.1, verbose=False,\n",
        "              warm_start=False)\n",
        "\n",
        "start_time = time.time()\n",
        "nn_clf.fit(X_train, y_train)\n",
        "stop_time = time.time()\n",
        "pred_nn = nn_clf.predict(X_test)\n",
        "\n",
        "print('Time taken for gradient descent is: ', stop_time - start_time)\n",
        "print(\"Train Score for gradient descent is:\", nn_clf.score(X_train, y_train))\n",
        "print(\"Test Score for gradient descent is:\", accuracy_score(y_test, pred_nn))"
      ],
      "execution_count": 24,
      "outputs": [
        {
          "output_type": "stream",
          "name": "stdout",
          "text": [
            "Time taken for gradient descent is:  0.6781363487243652\n",
            "Train Score for gradient descent is: 0.7109090909090909\n",
            "Test Score for gradient descent is: 0.7011070110701108\n"
          ]
        }
      ]
    },
    {
      "cell_type": "markdown",
      "metadata": {
        "id": "DuqqtBraUq4g"
      },
      "source": [
        "#### hidden nodes = [16, 8]:"
      ]
    },
    {
      "cell_type": "code",
      "metadata": {
        "id": "UHaD0sdgUvys"
      },
      "source": [
        "### run algorithms\n",
        "iterations = 1000\n",
        "\n",
        "hidden_nodes = [16, 8]\n",
        "activation = 'sigmoid'\n",
        "\n",
        "compare_dict_nn2 = {\n",
        "              'random_hill_climb':{'loss':[], 'test_score':[], 'train_score':[],'fit_times':[], 'fit_curve':[], 'model':''}, \n",
        "              'simulated_annealing': {'loss':[],'test_score':[], 'train_score':[],'fit_times':[], 'fit_curve':[], 'model':''}, \n",
        "              'genetic_alg':{'loss':[],'test_score':[], 'train_score':[],'fit_times':[], 'fit_curve':[], 'model':''}\n",
        "             }"
      ],
      "execution_count": 25,
      "outputs": []
    },
    {
      "cell_type": "code",
      "metadata": {
        "colab": {
          "base_uri": "https://localhost:8080/"
        },
        "id": "nmG2-0SWU47_",
        "outputId": "58a80053-4a2a-45ff-f838-564fafd69f0f"
      },
      "source": [
        "# random_hill\n",
        "nn_rhc = mlrose.NeuralNetwork(hidden_nodes = hidden_nodes, activation = activation, \\\n",
        "                             algorithm = 'random_hill_climb', max_iters = iterations, \\\n",
        "                             bias = True, is_classifier = True, learning_rate = 0.001, \\\n",
        "                             early_stopping = False,  clip_max=5,\\\n",
        "                             random_state = random_state, curve=True)\n",
        "\n",
        "start_time = time.time()\n",
        "nn_rhc.fit(X_train, y_train)\n",
        "stop_time = time.time()\n",
        "time_taken = stop_time - start_time\n",
        "y_pred = nn_rhc.predict(X_test)\n",
        "\n",
        "compare_dict_nn2['random_hill_climb']['loss'].append(nn_rhc.loss)\n",
        "compare_dict_nn2['random_hill_climb']['test_score'].append(accuracy_score(y_test, y_pred))\n",
        "compare_dict_nn2['random_hill_climb']['train_score'].append(nn_rhc.score(X_train, y_train))\n",
        "compare_dict_nn2['random_hill_climb']['fit_times'].append(time_taken)\n",
        "compare_dict_nn2['random_hill_climb']['fit_curve'].append(nn_rhc.fitness_curve )\n",
        "compare_dict_nn2['random_hill_climb']['model']= nn_rhc\n",
        "\n",
        "print('Training random_hill_climb 1000 iterations:','loss', nn_rhc.loss, 'test', accuracy_score(y_test, y_pred), 'train_score', nn_rhc.score(X_train, y_train), 'time_taken', time_taken)"
      ],
      "execution_count": 26,
      "outputs": [
        {
          "output_type": "stream",
          "name": "stdout",
          "text": [
            "Training random_hill_climb 1000 iterations: loss 0.7826536138795632 test 0.503690036900369 train_score 0.49727272727272726 time_taken 6.870621204376221\n"
          ]
        }
      ]
    },
    {
      "cell_type": "code",
      "metadata": {
        "colab": {
          "base_uri": "https://localhost:8080/"
        },
        "id": "XkckIOE7VMhg",
        "outputId": "26d9e54b-caf5-4301-d214-e21ae76662bd"
      },
      "source": [
        "# simulated_annealing\n",
        "schedule = mlrose.ExpDecay()\n",
        "nn_sa = mlrose.NeuralNetwork(hidden_nodes = hidden_nodes, activation = activation, \\\n",
        "                             algorithm = 'simulated_annealing', schedule=schedule, max_iters = iterations, \\\n",
        "                             bias = True, is_classifier = True, learning_rate = 0.001, \\\n",
        "                             early_stopping = False,  clip_max=5,\\\n",
        "                             random_state = random_state, curve=True)\n",
        "\n",
        "start_time = time.time()\n",
        "nn_sa.fit(X_train, y_train)\n",
        "stop_time = time.time()\n",
        "time_taken = stop_time - start_time\n",
        "y_pred = nn_sa.predict(X_test)\n",
        "\n",
        "compare_dict_nn2['simulated_annealing']['loss'].append(nn_sa.loss)\n",
        "compare_dict_nn2['simulated_annealing']['test_score'].append(accuracy_score(y_test, y_pred))\n",
        "compare_dict_nn2['simulated_annealing']['train_score'].append(nn_sa.score(X_train, y_train))\n",
        "compare_dict_nn2['simulated_annealing']['fit_times'].append(time_taken)\n",
        "compare_dict_nn2['simulated_annealing']['fit_curve'].append(nn_sa.fitness_curve )\n",
        "compare_dict_nn2['simulated_annealing']['model']= nn_sa\n",
        "\n",
        "print('Training simulated_annealing 1000 iterations:','loss', nn_sa.loss, 'test', accuracy_score(y_test, y_pred), 'train_score', nn_sa.score(X_train, y_train), 'time_taken', time_taken)"
      ],
      "execution_count": 27,
      "outputs": [
        {
          "output_type": "stream",
          "name": "stdout",
          "text": [
            "Training simulated_annealing 1000 iterations: loss 0.7852722794448828 test 0.503690036900369 train_score 0.49727272727272726 time_taken 9.454657793045044\n"
          ]
        }
      ]
    },
    {
      "cell_type": "code",
      "metadata": {
        "colab": {
          "base_uri": "https://localhost:8080/"
        },
        "id": "PWnZiYKkVxzi",
        "outputId": "1054d2c5-6fcb-49c4-ce2d-f76a519ae0ad"
      },
      "source": [
        "# genetic_alg\n",
        "nn_ga = mlrose.NeuralNetwork(hidden_nodes = hidden_nodes, activation = activation, \\\n",
        "                             algorithm = 'genetic_alg', max_iters = iterations, \\\n",
        "                             bias = True, is_classifier = True, learning_rate = 0.001, \\\n",
        "                             early_stopping = False,  clip_max=5, \\\n",
        "                             random_state = random_state, curve=True)\n",
        "\n",
        "start_time = time.time()\n",
        "nn_ga.fit(X_train, y_train)\n",
        "stop_time = time.time()\n",
        "time_taken = stop_time - start_time\n",
        "y_pred = nn_ga.predict(X_test)\n",
        "\n",
        "compare_dict_nn2['genetic_alg']['loss'].append(nn_ga.loss)\n",
        "compare_dict_nn2['genetic_alg']['test_score'].append(accuracy_score(y_test, y_pred))\n",
        "compare_dict_nn2['genetic_alg']['train_score'].append(nn_ga.score(X_train, y_train))\n",
        "compare_dict_nn2['genetic_alg']['fit_times'].append(time_taken)\n",
        "compare_dict_nn2['genetic_alg']['fit_curve'].append(nn_ga.fitness_curve )\n",
        "compare_dict_nn2['genetic_alg']['model']= nn_ga\n",
        "\n",
        "print('Training genetic_alg 1000 iterations:','loss', nn_ga.loss, 'test', accuracy_score(y_test, y_pred), 'train_score', nn_ga.score(X_train, y_train), 'time_taken', time_taken)"
      ],
      "execution_count": 28,
      "outputs": [
        {
          "output_type": "stream",
          "name": "stdout",
          "text": [
            "Training genetic_alg 1000 iterations: loss 0.7359332320657704 test 0.5064575645756457 train_score 0.5027272727272727 time_taken 990.7586364746094\n"
          ]
        }
      ]
    },
    {
      "cell_type": "code",
      "metadata": {
        "colab": {
          "base_uri": "https://localhost:8080/",
          "height": 295
        },
        "id": "3gbPbJBkV4lh",
        "outputId": "08d3618a-5441-43c2-b896-fbf1a50e84b3"
      },
      "source": [
        "### plot fitness curve compare\n",
        "algorithms = ['random_hill_climb', 'simulated_annealing', 'genetic_alg']\n",
        "algo_color = ['r-', 'y-', 'b-']\n",
        "\n",
        "fig, ax = plt.subplots()\n",
        "for index, algo in enumerate(algorithms):\n",
        "    ax.plot(range(0,len(compare_dict_nn2[algo]['fit_curve'][0])) , compare_dict_nn2[algo]['fit_curve'][0], algo_color[index], label=algo)\n",
        "\n",
        "ax.set_xlabel('Iterations')\n",
        "ax.set_ylabel('Fitness')\n",
        "ax.set_title('Fitness Curves on Neural Networks')\n",
        "ax.legend()\n",
        "plt.show(fig)"
      ],
      "execution_count": 29,
      "outputs": [
        {
          "output_type": "display_data",
          "data": {
            "image/png": "[encoded data removed]",
            "text/plain": [
              "<Figure size 432x288 with 1 Axes>"
            ]
          },
          "metadata": {
            "needs_background": "light"
          }
        }
      ]
    },
    {
      "cell_type": "code",
      "metadata": {
        "colab": {
          "base_uri": "https://localhost:8080/"
        },
        "id": "VBvX6sswV_jC",
        "outputId": "b2853047-8370-4704-d2ef-d79c0c74b618"
      },
      "source": [
        "print('Time taken for random_hill_climb is: ', compare_dict_nn2['random_hill_climb']['fit_times'])\n",
        "print('Time taken for simulated_annealing is: ', compare_dict_nn2['simulated_annealing']['fit_times'])\n",
        "print('Time taken for genetic_alg is: ', compare_dict_nn2['genetic_alg']['fit_times'])\n",
        "\n",
        "print('Test score for random_hill_climb is: ', compare_dict_nn2['random_hill_climb']['test_score'])\n",
        "print('Test score for simulated_annealing is: ', compare_dict_nn2['simulated_annealing']['test_score'])\n",
        "print('Test score for genetic_alg is: ', compare_dict_nn2['genetic_alg']['test_score'])\n",
        "\n",
        "print('Train score for random_hill_climb is: ', compare_dict_nn2['random_hill_climb']['train_score'])\n",
        "print('Train score for simulated_annealing is: ', compare_dict_nn2['simulated_annealing']['train_score'])\n",
        "print('Train score for genetic_alg is: ', compare_dict_nn2['genetic_alg']['train_score'])\n",
        "\n",
        "print('Loss for random_hill_climb is: ', compare_dict_nn2['random_hill_climb']['loss'])\n",
        "print('Loss for simulated_annealing is: ', compare_dict_nn2['simulated_annealing']['loss'])\n",
        "print('Loss for genetic_alg is: ', compare_dict_nn2['genetic_alg']['loss'])"
      ],
      "execution_count": 30,
      "outputs": [
        {
          "output_type": "stream",
          "name": "stdout",
          "text": [
            "Time taken for random_hill_climb is:  [6.870621204376221]\n",
            "Time taken for simulated_annealing is:  [9.454657793045044]\n",
            "Time taken for genetic_alg is:  [990.7586364746094]\n",
            "Test score for random_hill_climb is:  [0.503690036900369]\n",
            "Test score for simulated_annealing is:  [0.503690036900369]\n",
            "Test score for genetic_alg is:  [0.5064575645756457]\n",
            "Train score for random_hill_climb is:  [0.49727272727272726]\n",
            "Train score for simulated_annealing is:  [0.49727272727272726]\n",
            "Train score for genetic_alg is:  [0.5027272727272727]\n",
            "Loss for random_hill_climb is:  [0.7826536138795632]\n",
            "Loss for simulated_annealing is:  [0.7852722794448828]\n",
            "Loss for genetic_alg is:  [0.7359332320657704]\n"
          ]
        }
      ]
    }
  ]
}